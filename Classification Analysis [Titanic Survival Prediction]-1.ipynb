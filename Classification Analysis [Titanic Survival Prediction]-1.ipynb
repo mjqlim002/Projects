{
 "cells": [
  {
   "cell_type": "markdown",
   "id": "b399310b",
   "metadata": {},
   "source": [
    "# Classification Analysis on Titanic Survival Prediction"
   ]
  },
  {
   "cell_type": "code",
   "execution_count": 315,
   "id": "00feb7a0",
   "metadata": {},
   "outputs": [
    {
     "data": {
      "application/javascript": [
       "IPython.OutputArea.prototype._should_scroll = function(lines) {\n",
       "    return false;\n",
       "}\n"
      ],
      "text/plain": [
       "<IPython.core.display.Javascript object>"
      ]
     },
     "metadata": {},
     "output_type": "display_data"
    }
   ],
   "source": [
    "%%javascript\n",
    "IPython.OutputArea.prototype._should_scroll = function(lines) {\n",
    "    return false;\n",
    "}"
   ]
  },
  {
   "cell_type": "markdown",
   "id": "a1b84e28",
   "metadata": {},
   "source": [
    "# Load in the libraries and the dataset"
   ]
  },
  {
   "cell_type": "code",
   "execution_count": 316,
   "id": "171d652e",
   "metadata": {},
   "outputs": [],
   "source": [
    "import pandas as pd\n",
    "import numpy as np\n",
    "import seaborn as sns \n",
    "import matplotlib.pyplot as plt \n",
    "\n",
    "#Training data\n",
    "from sklearn.model_selection import train_test_split\n",
    "\n",
    "#Metrics\n",
    "from sklearn import metrics\n",
    "from sklearn.metrics import mean_absolute_error, mean_squared_error\n",
    "from sklearn.metrics import classification_report, confusion_matrix\n",
    "from sklearn.metrics import f1_score\n",
    "\n",
    "#KNN classifier\n",
    "from sklearn.neighbors import KNeighborsClassifier\n",
    "\n",
    "# Gaussian Naive Bayes Classifier\n",
    "from sklearn.naive_bayes import GaussianNB\n",
    "\n",
    "# Logistic Regression\n",
    "from sklearn.linear_model import LogisticRegression\n",
    "\n",
    "#Decision Tree Classifier\n",
    "from sklearn.tree import DecisionTreeClassifier\n",
    "\n",
    "#SVM\n",
    "from sklearn.svm import SVC"
   ]
  },
  {
   "cell_type": "code",
   "execution_count": 317,
   "id": "d12d74fc",
   "metadata": {},
   "outputs": [
    {
     "data": {
      "text/html": [
       "<div>\n",
       "<style scoped>\n",
       "    .dataframe tbody tr th:only-of-type {\n",
       "        vertical-align: middle;\n",
       "    }\n",
       "\n",
       "    .dataframe tbody tr th {\n",
       "        vertical-align: top;\n",
       "    }\n",
       "\n",
       "    .dataframe thead th {\n",
       "        text-align: right;\n",
       "    }\n",
       "</style>\n",
       "<table border=\"1\" class=\"dataframe\">\n",
       "  <thead>\n",
       "    <tr style=\"text-align: right;\">\n",
       "      <th></th>\n",
       "      <th>PassengerId</th>\n",
       "      <th>Survived</th>\n",
       "      <th>Pclass</th>\n",
       "      <th>Name</th>\n",
       "      <th>Sex</th>\n",
       "      <th>Age</th>\n",
       "      <th>SibSp</th>\n",
       "      <th>Parch</th>\n",
       "      <th>Ticket</th>\n",
       "      <th>Fare</th>\n",
       "      <th>Cabin</th>\n",
       "      <th>Embarked</th>\n",
       "    </tr>\n",
       "  </thead>\n",
       "  <tbody>\n",
       "    <tr>\n",
       "      <th>0</th>\n",
       "      <td>1</td>\n",
       "      <td>0</td>\n",
       "      <td>3</td>\n",
       "      <td>Braund, Mr. Owen Harris</td>\n",
       "      <td>male</td>\n",
       "      <td>22.0</td>\n",
       "      <td>1</td>\n",
       "      <td>0</td>\n",
       "      <td>A/5 21171</td>\n",
       "      <td>7.2500</td>\n",
       "      <td>NaN</td>\n",
       "      <td>S</td>\n",
       "    </tr>\n",
       "    <tr>\n",
       "      <th>1</th>\n",
       "      <td>2</td>\n",
       "      <td>1</td>\n",
       "      <td>1</td>\n",
       "      <td>Cumings, Mrs. John Bradley (Florence Briggs Th...</td>\n",
       "      <td>female</td>\n",
       "      <td>38.0</td>\n",
       "      <td>1</td>\n",
       "      <td>0</td>\n",
       "      <td>PC 17599</td>\n",
       "      <td>71.2833</td>\n",
       "      <td>C85</td>\n",
       "      <td>C</td>\n",
       "    </tr>\n",
       "    <tr>\n",
       "      <th>2</th>\n",
       "      <td>3</td>\n",
       "      <td>1</td>\n",
       "      <td>3</td>\n",
       "      <td>Heikkinen, Miss. Laina</td>\n",
       "      <td>female</td>\n",
       "      <td>26.0</td>\n",
       "      <td>0</td>\n",
       "      <td>0</td>\n",
       "      <td>STON/O2. 3101282</td>\n",
       "      <td>7.9250</td>\n",
       "      <td>NaN</td>\n",
       "      <td>S</td>\n",
       "    </tr>\n",
       "    <tr>\n",
       "      <th>3</th>\n",
       "      <td>4</td>\n",
       "      <td>1</td>\n",
       "      <td>1</td>\n",
       "      <td>Futrelle, Mrs. Jacques Heath (Lily May Peel)</td>\n",
       "      <td>female</td>\n",
       "      <td>35.0</td>\n",
       "      <td>1</td>\n",
       "      <td>0</td>\n",
       "      <td>113803</td>\n",
       "      <td>53.1000</td>\n",
       "      <td>C123</td>\n",
       "      <td>S</td>\n",
       "    </tr>\n",
       "    <tr>\n",
       "      <th>4</th>\n",
       "      <td>5</td>\n",
       "      <td>0</td>\n",
       "      <td>3</td>\n",
       "      <td>Allen, Mr. William Henry</td>\n",
       "      <td>male</td>\n",
       "      <td>35.0</td>\n",
       "      <td>0</td>\n",
       "      <td>0</td>\n",
       "      <td>373450</td>\n",
       "      <td>8.0500</td>\n",
       "      <td>NaN</td>\n",
       "      <td>S</td>\n",
       "    </tr>\n",
       "  </tbody>\n",
       "</table>\n",
       "</div>"
      ],
      "text/plain": [
       "   PassengerId  Survived  Pclass  \\\n",
       "0            1         0       3   \n",
       "1            2         1       1   \n",
       "2            3         1       3   \n",
       "3            4         1       1   \n",
       "4            5         0       3   \n",
       "\n",
       "                                                Name     Sex   Age  SibSp  \\\n",
       "0                            Braund, Mr. Owen Harris    male  22.0      1   \n",
       "1  Cumings, Mrs. John Bradley (Florence Briggs Th...  female  38.0      1   \n",
       "2                             Heikkinen, Miss. Laina  female  26.0      0   \n",
       "3       Futrelle, Mrs. Jacques Heath (Lily May Peel)  female  35.0      1   \n",
       "4                           Allen, Mr. William Henry    male  35.0      0   \n",
       "\n",
       "   Parch            Ticket     Fare Cabin Embarked  \n",
       "0      0         A/5 21171   7.2500   NaN        S  \n",
       "1      0          PC 17599  71.2833   C85        C  \n",
       "2      0  STON/O2. 3101282   7.9250   NaN        S  \n",
       "3      0            113803  53.1000  C123        S  \n",
       "4      0            373450   8.0500   NaN        S  "
      ]
     },
     "execution_count": 317,
     "metadata": {},
     "output_type": "execute_result"
    }
   ],
   "source": [
    "titanic = pd.read_csv(\"titanic.csv\") \n",
    "titanic.head()"
   ]
  },
  {
   "cell_type": "code",
   "execution_count": 318,
   "id": "70e4d39d",
   "metadata": {
    "scrolled": true
   },
   "outputs": [
    {
     "name": "stdout",
     "output_type": "stream",
     "text": [
      "<class 'pandas.core.frame.DataFrame'>\n",
      "RangeIndex: 891 entries, 0 to 890\n",
      "Data columns (total 12 columns):\n",
      " #   Column       Non-Null Count  Dtype  \n",
      "---  ------       --------------  -----  \n",
      " 0   PassengerId  891 non-null    int64  \n",
      " 1   Survived     891 non-null    int64  \n",
      " 2   Pclass       891 non-null    int64  \n",
      " 3   Name         891 non-null    object \n",
      " 4   Sex          891 non-null    object \n",
      " 5   Age          714 non-null    float64\n",
      " 6   SibSp        891 non-null    int64  \n",
      " 7   Parch        891 non-null    int64  \n",
      " 8   Ticket       891 non-null    object \n",
      " 9   Fare         891 non-null    float64\n",
      " 10  Cabin        204 non-null    object \n",
      " 11  Embarked     889 non-null    object \n",
      "dtypes: float64(2), int64(5), object(5)\n",
      "memory usage: 83.7+ KB\n"
     ]
    }
   ],
   "source": [
    "titanic.info()"
   ]
  },
  {
   "cell_type": "code",
   "execution_count": 319,
   "id": "ca9b7faa",
   "metadata": {},
   "outputs": [
    {
     "name": "stdout",
     "output_type": "stream",
     "text": [
      "Number of passangers in original data: 891\n"
     ]
    }
   ],
   "source": [
    "print('Number of passangers in original data: ' +str(len(titanic.index)))"
   ]
  },
  {
   "cell_type": "code",
   "execution_count": 320,
   "id": "95032901",
   "metadata": {},
   "outputs": [
    {
     "data": {
      "text/plain": [
       "PassengerId      0\n",
       "Survived         0\n",
       "Pclass           0\n",
       "Name             0\n",
       "Sex              0\n",
       "Age            177\n",
       "SibSp            0\n",
       "Parch            0\n",
       "Ticket           0\n",
       "Fare             0\n",
       "Cabin          687\n",
       "Embarked         2\n",
       "dtype: int64"
      ]
     },
     "execution_count": 320,
     "metadata": {},
     "output_type": "execute_result"
    }
   ],
   "source": [
    "# Sum of number of cells that are empty\n",
    "titanic.isnull().sum()"
   ]
  },
  {
   "cell_type": "markdown",
   "id": "d3ef3323",
   "metadata": {},
   "source": [
    "# Exploratory Data analysis"
   ]
  },
  {
   "cell_type": "markdown",
   "id": "0abd609e",
   "metadata": {},
   "source": [
    "### Proportion of Gender that survived"
   ]
  },
  {
   "cell_type": "code",
   "execution_count": 321,
   "id": "27a0971c",
   "metadata": {
    "scrolled": true
   },
   "outputs": [
    {
     "data": {
      "text/plain": [
       "<AxesSubplot:xlabel='Sex', ylabel='Survived'>"
      ]
     },
     "execution_count": 321,
     "metadata": {},
     "output_type": "execute_result"
    },
    {
     "data": {
      "image/png": "[encoded data removed]",
      "text/plain": [
       "<Figure size 640x480 with 1 Axes>"
      ]
     },
     "metadata": {},
     "output_type": "display_data"
    }
   ],
   "source": [
    "sns.barplot(x='Sex', y='Survived', data=titanic, palette='rocket')"
   ]
  },
  {
   "cell_type": "code",
   "execution_count": 322,
   "id": "15da27cc",
   "metadata": {},
   "outputs": [
    {
     "name": "stdout",
     "output_type": "stream",
     "text": [
      "Survival rate of females 0.74\n"
     ]
    }
   ],
   "source": [
    "females_survived = titanic['Survived'][titanic['Sex']=='female'].value_counts(normalize=True)[1]\n",
    "females_survived = round(females_survived,2)\n",
    "print('Survival rate of females', females_survived)"
   ]
  },
  {
   "cell_type": "code",
   "execution_count": 323,
   "id": "2da1f0b7",
   "metadata": {},
   "outputs": [
    {
     "name": "stdout",
     "output_type": "stream",
     "text": [
      "Survival rate of males 0.19\n"
     ]
    }
   ],
   "source": [
    "males_survived = titanic['Survived'][titanic['Sex']=='male'].value_counts(normalize=True)[1]\n",
    "males_survived = round(males_survived,2)\n",
    "print('Survival rate of males', males_survived)"
   ]
  },
  {
   "cell_type": "markdown",
   "id": "92e0672a",
   "metadata": {},
   "source": [
    "<b>There is a higher proability for Females to survive than males."
   ]
  },
  {
   "cell_type": "markdown",
   "id": "3ee51b8f",
   "metadata": {},
   "source": [
    "### Age distribution of Passengers"
   ]
  },
  {
   "cell_type": "code",
   "execution_count": 324,
   "id": "2992bdde",
   "metadata": {
    "scrolled": true
   },
   "outputs": [
    {
     "data": {
      "text/plain": [
       "<AxesSubplot:ylabel='Frequency'>"
      ]
     },
     "execution_count": 324,
     "metadata": {},
     "output_type": "execute_result"
    },
    {
     "data": {
      "image/png": "[encoded data removed]",
      "text/plain": [
       "<Figure size 640x480 with 1 Axes>"
      ]
     },
     "metadata": {},
     "output_type": "display_data"
    }
   ],
   "source": [
    "titanic['Age'].plot.hist()"
   ]
  },
  {
   "cell_type": "markdown",
   "id": "0ce68032",
   "metadata": {},
   "source": [
    "<b>Majority of the passengers are young with more than 50% under 40 years old."
   ]
  },
  {
   "cell_type": "markdown",
   "id": "9ac18e77",
   "metadata": {},
   "source": [
    "### Age Distribution of Survivals for each Gender"
   ]
  },
  {
   "cell_type": "code",
   "execution_count": 325,
   "id": "c69859f1",
   "metadata": {
    "scrolled": false
   },
   "outputs": [
    {
     "name": "stderr",
     "output_type": "stream",
     "text": [
      "C:\\Users\\megan\\anaconda3\\lib\\site-packages\\seaborn\\distributions.py:2619: FutureWarning: `distplot` is a deprecated function and will be removed in a future version. Please adapt your code to use either `displot` (a figure-level function with similar flexibility) or `histplot` (an axes-level function for histograms).\n",
      "  warnings.warn(msg, FutureWarning)\n"
     ]
    },
    {
     "data": {
      "image/png": "[encoded data removed]",
      "text/plain": [
       "<Figure size 1000x400 with 2 Axes>"
      ]
     },
     "metadata": {},
     "output_type": "display_data"
    }
   ],
   "source": [
    "survived = 'survived'\n",
    "not_survived = 'not survived'\n",
    "fig, axes = plt.subplots(nrows=1, ncols=2,figsize=(10, 4))\n",
    "female = titanic[titanic['Sex']=='female']\n",
    "male = titanic[titanic['Sex']=='male']\n",
    "ax = sns.distplot(female[female['Survived']==1].Age.dropna(), bins=18, label = survived, ax = axes[0], kde =False)\n",
    "ax = sns.distplot(female[female['Survived']==0].Age.dropna(), bins=40, label = not_survived, ax = axes[0], kde =False)\n",
    "ax.legend()\n",
    "ax.set_title('Female')\n",
    "ax = sns.distplot(male[male['Survived']==1].Age.dropna(), bins=18, label = survived, ax = axes[1], kde = False)\n",
    "ax = sns.distplot(male[male['Survived']==0].Age.dropna(), bins=40, label = not_survived, ax = axes[1], kde = False)\n",
    "ax.legend()\n",
    "_ = ax.set_title('Male')"
   ]
  },
  {
   "cell_type": "markdown",
   "id": "664da1e7",
   "metadata": {},
   "source": [
    "<b>It is observed that there is a higher probability of survival for Females between the ages of 14 and 40.\n",
    "For men, there is a higher probability of survival between the ages of 18 and 40."
   ]
  },
  {
   "cell_type": "markdown",
   "id": "4848ea9a",
   "metadata": {},
   "source": [
    "### Proportion of Class Types that survived"
   ]
  },
  {
   "cell_type": "code",
   "execution_count": 326,
   "id": "3cd717c7",
   "metadata": {
    "scrolled": true
   },
   "outputs": [
    {
     "data": {
      "text/plain": [
       "<AxesSubplot:xlabel='Pclass', ylabel='Survived'>"
      ]
     },
     "execution_count": 326,
     "metadata": {},
     "output_type": "execute_result"
    },
    {
     "data": {
      "image/png": "[encoded data removed]",
      "text/plain": [
       "<Figure size 640x480 with 1 Axes>"
      ]
     },
     "metadata": {},
     "output_type": "display_data"
    }
   ],
   "source": [
    "sns.barplot(x='Pclass', y='Survived', data = titanic, palette='crest')"
   ]
  },
  {
   "cell_type": "code",
   "execution_count": 327,
   "id": "8dfed0ba",
   "metadata": {},
   "outputs": [
    {
     "name": "stdout",
     "output_type": "stream",
     "text": [
      "Survival rate of Pclass: 1 is 0.63\n"
     ]
    }
   ],
   "source": [
    "class1_survived = titanic['Survived'][titanic['Pclass']==1].value_counts(normalize=True)[1]\n",
    "class1_survived = round(class1_survived, 2)\n",
    "print('Survival rate of Pclass: 1 is', class1_survived)"
   ]
  },
  {
   "cell_type": "code",
   "execution_count": 328,
   "id": "a9001959",
   "metadata": {},
   "outputs": [
    {
     "name": "stdout",
     "output_type": "stream",
     "text": [
      "Survival rate of Pclass: 2 is 0.47\n"
     ]
    }
   ],
   "source": [
    "class2_survived = titanic['Survived'][titanic['Pclass']==2].value_counts(normalize=True)[1]\n",
    "class2_survived = round(class2_survived, 2)\n",
    "print('Survival rate of Pclass: 2 is', class2_survived)"
   ]
  },
  {
   "cell_type": "code",
   "execution_count": 329,
   "id": "f1ca916e",
   "metadata": {},
   "outputs": [
    {
     "name": "stdout",
     "output_type": "stream",
     "text": [
      "Survival rate of Pclass: 3 is 0.24\n"
     ]
    }
   ],
   "source": [
    "class3_survived = titanic['Survived'][titanic['Pclass']==3].value_counts(normalize=True)[1]\n",
    "class3_survived = round(class3_survived, 2)\n",
    "print('Survival rate of Pclass: 3 is', class3_survived)"
   ]
  },
  {
   "cell_type": "markdown",
   "id": "9fe85ceb",
   "metadata": {},
   "source": [
    "<b>People with higher socioeconomic class had a higher survival rate. "
   ]
  },
  {
   "cell_type": "markdown",
   "id": "41c964c5",
   "metadata": {},
   "source": [
    "### Proportion of Sibsp Feature that survived"
   ]
  },
  {
   "cell_type": "code",
   "execution_count": 330,
   "id": "f6c64a1b",
   "metadata": {},
   "outputs": [
    {
     "data": {
      "text/plain": [
       "<AxesSubplot:xlabel='SibSp', ylabel='Survived'>"
      ]
     },
     "execution_count": 330,
     "metadata": {},
     "output_type": "execute_result"
    },
    {
     "data": {
      "image/png": "[encoded data removed]",
      "text/plain": [
       "<Figure size 640x480 with 1 Axes>"
      ]
     },
     "metadata": {},
     "output_type": "display_data"
    }
   ],
   "source": [
    "sns.barplot(x='SibSp', y='Survived', data = titanic, palette='viridis')"
   ]
  },
  {
   "cell_type": "code",
   "execution_count": 331,
   "id": "51d83bec",
   "metadata": {},
   "outputs": [
    {
     "name": "stdout",
     "output_type": "stream",
     "text": [
      "Survival rate of SibSp: 0 is 0.35\n"
     ]
    }
   ],
   "source": [
    "SibSp0_survived = titanic['Survived'][titanic['SibSp']==0].value_counts(normalize=True)[1]\n",
    "SibSp0_survived = round(SibSp0_survived, 2)\n",
    "print('Survival rate of SibSp: 0 is', SibSp0_survived)"
   ]
  },
  {
   "cell_type": "code",
   "execution_count": 332,
   "id": "8198b863",
   "metadata": {},
   "outputs": [
    {
     "name": "stdout",
     "output_type": "stream",
     "text": [
      "Survival rate of SibSp: 1 is 0.54\n"
     ]
    }
   ],
   "source": [
    "SibSp1_survived = titanic['Survived'][titanic['SibSp']==1].value_counts(normalize=True)[1]\n",
    "SibSp1_survived = round(SibSp1_survived, 2)\n",
    "print('Survival rate of SibSp: 1 is', SibSp1_survived)"
   ]
  },
  {
   "cell_type": "code",
   "execution_count": 333,
   "id": "75ab5bb4",
   "metadata": {},
   "outputs": [
    {
     "name": "stdout",
     "output_type": "stream",
     "text": [
      "Survival rate of SibSp: 2 is 0.46\n"
     ]
    }
   ],
   "source": [
    "SibSp2_survived = titanic['Survived'][titanic['SibSp']==2].value_counts(normalize=True)[1]\n",
    "SibSp2_survived = round(SibSp2_survived, 2)\n",
    "print('Survival rate of SibSp: 2 is', SibSp2_survived)"
   ]
  },
  {
   "cell_type": "markdown",
   "id": "1ae1e340",
   "metadata": {},
   "source": [
    "<b>Overall, people with more sibilings or spouses aboard had a lower likelihood of survival. However, people with no siblings or spouses had a lower survival percentage of 35% than those who with one or two (54% and 46% respectively)."
   ]
  },
  {
   "cell_type": "markdown",
   "id": "56990e78",
   "metadata": {},
   "source": [
    "# Data Wrangling"
   ]
  },
  {
   "cell_type": "markdown",
   "id": "6173e155",
   "metadata": {},
   "source": [
    "## Handling missing Data for Age column"
   ]
  },
  {
   "cell_type": "code",
   "execution_count": 334,
   "id": "69ec6c80",
   "metadata": {},
   "outputs": [
    {
     "data": {
      "text/plain": [
       "0"
      ]
     },
     "execution_count": 334,
     "metadata": {},
     "output_type": "execute_result"
    }
   ],
   "source": [
    "for dataset in titanic:\n",
    "    mean = titanic[\"Age\"].mean()\n",
    "    std = titanic[\"Age\"].std()\n",
    "    is_null = titanic[\"Age\"].isnull().sum()\n",
    "    # compute random numbers between the mean, std and is_null\n",
    "    rand_age = np.random.randint(mean - std, mean + std, size = is_null)\n",
    "    # fill NaN values in Age column with random values generated\n",
    "    age_slice = titanic[\"Age\"].copy()\n",
    "    age_slice[np.isnan(age_slice)] = rand_age\n",
    "    titanic[\"Age\"] = age_slice\n",
    "    titanic[\"Age\"] = titanic[\"Age\"].astype(int)\n",
    "titanic[\"Age\"].isnull().sum()"
   ]
  },
  {
   "cell_type": "markdown",
   "id": "4b333d4f",
   "metadata": {},
   "source": [
    "## Handling missing Data for Embarked column"
   ]
  },
  {
   "cell_type": "code",
   "execution_count": 335,
   "id": "71c808ba",
   "metadata": {},
   "outputs": [
    {
     "name": "stdout",
     "output_type": "stream",
     "text": [
      "Number of people embarking in Southampton (S):\n",
      "644\n",
      "Number of people embarking in Cherbourg (C):\n",
      "168\n",
      "Number of people embarking in Queenstown (Q):\n",
      "77\n"
     ]
    }
   ],
   "source": [
    "# Find out which group is the most popular\n",
    "print('Number of people embarking in Southampton (S):')\n",
    "southampton = titanic[titanic['Embarked']=='S'].shape[0]\n",
    "print(southampton)\n",
    "\n",
    "print('Number of people embarking in Cherbourg (C):')\n",
    "cherbourg = titanic[titanic['Embarked']=='C'].shape[0]\n",
    "print(cherbourg)\n",
    "\n",
    "print('Number of people embarking in Queenstown (Q):')\n",
    "queenstown = titanic[titanic['Embarked']=='Q'].shape[0]\n",
    "print(queenstown)"
   ]
  },
  {
   "cell_type": "code",
   "execution_count": 336,
   "id": "888f09dd",
   "metadata": {},
   "outputs": [],
   "source": [
    "#Replacing the missing values in the Embarked feature with S(most popular)\n",
    "titanic = titanic.fillna({'Embarked': 'S'})"
   ]
  },
  {
   "cell_type": "code",
   "execution_count": 337,
   "id": "f4ac7006",
   "metadata": {
    "scrolled": true
   },
   "outputs": [
    {
     "data": {
      "text/plain": [
       "PassengerId      0\n",
       "Survived         0\n",
       "Pclass           0\n",
       "Name             0\n",
       "Sex              0\n",
       "Age              0\n",
       "SibSp            0\n",
       "Parch            0\n",
       "Ticket           0\n",
       "Fare             0\n",
       "Cabin          687\n",
       "Embarked         0\n",
       "dtype: int64"
      ]
     },
     "execution_count": 337,
     "metadata": {},
     "output_type": "execute_result"
    }
   ],
   "source": [
    "titanic.isna().sum()"
   ]
  },
  {
   "cell_type": "code",
   "execution_count": 338,
   "id": "277961c6",
   "metadata": {},
   "outputs": [
    {
     "data": {
      "text/html": [
       "<div>\n",
       "<style scoped>\n",
       "    .dataframe tbody tr th:only-of-type {\n",
       "        vertical-align: middle;\n",
       "    }\n",
       "\n",
       "    .dataframe tbody tr th {\n",
       "        vertical-align: top;\n",
       "    }\n",
       "\n",
       "    .dataframe thead th {\n",
       "        text-align: right;\n",
       "    }\n",
       "</style>\n",
       "<table border=\"1\" class=\"dataframe\">\n",
       "  <thead>\n",
       "    <tr style=\"text-align: right;\">\n",
       "      <th></th>\n",
       "      <th>PassengerId</th>\n",
       "      <th>Survived</th>\n",
       "      <th>Pclass</th>\n",
       "      <th>Name</th>\n",
       "      <th>Sex</th>\n",
       "      <th>Age</th>\n",
       "      <th>SibSp</th>\n",
       "      <th>Parch</th>\n",
       "      <th>Ticket</th>\n",
       "      <th>Fare</th>\n",
       "      <th>Cabin</th>\n",
       "      <th>Embarked</th>\n",
       "    </tr>\n",
       "  </thead>\n",
       "  <tbody>\n",
       "    <tr>\n",
       "      <th>0</th>\n",
       "      <td>1</td>\n",
       "      <td>0</td>\n",
       "      <td>3</td>\n",
       "      <td>Braund, Mr. Owen Harris</td>\n",
       "      <td>male</td>\n",
       "      <td>22</td>\n",
       "      <td>1</td>\n",
       "      <td>0</td>\n",
       "      <td>A/5 21171</td>\n",
       "      <td>7.2500</td>\n",
       "      <td>NaN</td>\n",
       "      <td>S</td>\n",
       "    </tr>\n",
       "    <tr>\n",
       "      <th>1</th>\n",
       "      <td>2</td>\n",
       "      <td>1</td>\n",
       "      <td>1</td>\n",
       "      <td>Cumings, Mrs. John Bradley (Florence Briggs Th...</td>\n",
       "      <td>female</td>\n",
       "      <td>38</td>\n",
       "      <td>1</td>\n",
       "      <td>0</td>\n",
       "      <td>PC 17599</td>\n",
       "      <td>71.2833</td>\n",
       "      <td>C85</td>\n",
       "      <td>C</td>\n",
       "    </tr>\n",
       "    <tr>\n",
       "      <th>2</th>\n",
       "      <td>3</td>\n",
       "      <td>1</td>\n",
       "      <td>3</td>\n",
       "      <td>Heikkinen, Miss. Laina</td>\n",
       "      <td>female</td>\n",
       "      <td>26</td>\n",
       "      <td>0</td>\n",
       "      <td>0</td>\n",
       "      <td>STON/O2. 3101282</td>\n",
       "      <td>7.9250</td>\n",
       "      <td>NaN</td>\n",
       "      <td>S</td>\n",
       "    </tr>\n",
       "    <tr>\n",
       "      <th>3</th>\n",
       "      <td>4</td>\n",
       "      <td>1</td>\n",
       "      <td>1</td>\n",
       "      <td>Futrelle, Mrs. Jacques Heath (Lily May Peel)</td>\n",
       "      <td>female</td>\n",
       "      <td>35</td>\n",
       "      <td>1</td>\n",
       "      <td>0</td>\n",
       "      <td>113803</td>\n",
       "      <td>53.1000</td>\n",
       "      <td>C123</td>\n",
       "      <td>S</td>\n",
       "    </tr>\n",
       "    <tr>\n",
       "      <th>4</th>\n",
       "      <td>5</td>\n",
       "      <td>0</td>\n",
       "      <td>3</td>\n",
       "      <td>Allen, Mr. William Henry</td>\n",
       "      <td>male</td>\n",
       "      <td>35</td>\n",
       "      <td>0</td>\n",
       "      <td>0</td>\n",
       "      <td>373450</td>\n",
       "      <td>8.0500</td>\n",
       "      <td>NaN</td>\n",
       "      <td>S</td>\n",
       "    </tr>\n",
       "  </tbody>\n",
       "</table>\n",
       "</div>"
      ],
      "text/plain": [
       "   PassengerId  Survived  Pclass  \\\n",
       "0            1         0       3   \n",
       "1            2         1       1   \n",
       "2            3         1       3   \n",
       "3            4         1       1   \n",
       "4            5         0       3   \n",
       "\n",
       "                                                Name     Sex  Age  SibSp  \\\n",
       "0                            Braund, Mr. Owen Harris    male   22      1   \n",
       "1  Cumings, Mrs. John Bradley (Florence Briggs Th...  female   38      1   \n",
       "2                             Heikkinen, Miss. Laina  female   26      0   \n",
       "3       Futrelle, Mrs. Jacques Heath (Lily May Peel)  female   35      1   \n",
       "4                           Allen, Mr. William Henry    male   35      0   \n",
       "\n",
       "   Parch            Ticket     Fare Cabin Embarked  \n",
       "0      0         A/5 21171   7.2500   NaN        S  \n",
       "1      0          PC 17599  71.2833   C85        C  \n",
       "2      0  STON/O2. 3101282   7.9250   NaN        S  \n",
       "3      0            113803  53.1000  C123        S  \n",
       "4      0            373450   8.0500   NaN        S  "
      ]
     },
     "execution_count": 338,
     "metadata": {},
     "output_type": "execute_result"
    }
   ],
   "source": [
    "titanic.head()"
   ]
  },
  {
   "cell_type": "markdown",
   "id": "7b6ab527",
   "metadata": {},
   "source": [
    "## Dropping irrelavent columns"
   ]
  },
  {
   "cell_type": "code",
   "execution_count": 339,
   "id": "40279801",
   "metadata": {
    "scrolled": true
   },
   "outputs": [
    {
     "data": {
      "text/html": [
       "<div>\n",
       "<style scoped>\n",
       "    .dataframe tbody tr th:only-of-type {\n",
       "        vertical-align: middle;\n",
       "    }\n",
       "\n",
       "    .dataframe tbody tr th {\n",
       "        vertical-align: top;\n",
       "    }\n",
       "\n",
       "    .dataframe thead th {\n",
       "        text-align: right;\n",
       "    }\n",
       "</style>\n",
       "<table border=\"1\" class=\"dataframe\">\n",
       "  <thead>\n",
       "    <tr style=\"text-align: right;\">\n",
       "      <th></th>\n",
       "      <th>Survived</th>\n",
       "      <th>Pclass</th>\n",
       "      <th>Sex</th>\n",
       "      <th>Age</th>\n",
       "      <th>SibSp</th>\n",
       "      <th>Parch</th>\n",
       "      <th>Fare</th>\n",
       "      <th>Embarked</th>\n",
       "    </tr>\n",
       "  </thead>\n",
       "  <tbody>\n",
       "    <tr>\n",
       "      <th>0</th>\n",
       "      <td>0</td>\n",
       "      <td>3</td>\n",
       "      <td>male</td>\n",
       "      <td>22</td>\n",
       "      <td>1</td>\n",
       "      <td>0</td>\n",
       "      <td>7.2500</td>\n",
       "      <td>S</td>\n",
       "    </tr>\n",
       "    <tr>\n",
       "      <th>1</th>\n",
       "      <td>1</td>\n",
       "      <td>1</td>\n",
       "      <td>female</td>\n",
       "      <td>38</td>\n",
       "      <td>1</td>\n",
       "      <td>0</td>\n",
       "      <td>71.2833</td>\n",
       "      <td>C</td>\n",
       "    </tr>\n",
       "    <tr>\n",
       "      <th>2</th>\n",
       "      <td>1</td>\n",
       "      <td>3</td>\n",
       "      <td>female</td>\n",
       "      <td>26</td>\n",
       "      <td>0</td>\n",
       "      <td>0</td>\n",
       "      <td>7.9250</td>\n",
       "      <td>S</td>\n",
       "    </tr>\n",
       "    <tr>\n",
       "      <th>3</th>\n",
       "      <td>1</td>\n",
       "      <td>1</td>\n",
       "      <td>female</td>\n",
       "      <td>35</td>\n",
       "      <td>1</td>\n",
       "      <td>0</td>\n",
       "      <td>53.1000</td>\n",
       "      <td>S</td>\n",
       "    </tr>\n",
       "    <tr>\n",
       "      <th>4</th>\n",
       "      <td>0</td>\n",
       "      <td>3</td>\n",
       "      <td>male</td>\n",
       "      <td>35</td>\n",
       "      <td>0</td>\n",
       "      <td>0</td>\n",
       "      <td>8.0500</td>\n",
       "      <td>S</td>\n",
       "    </tr>\n",
       "  </tbody>\n",
       "</table>\n",
       "</div>"
      ],
      "text/plain": [
       "   Survived  Pclass     Sex  Age  SibSp  Parch     Fare Embarked\n",
       "0         0       3    male   22      1      0   7.2500        S\n",
       "1         1       1  female   38      1      0  71.2833        C\n",
       "2         1       3  female   26      0      0   7.9250        S\n",
       "3         1       1  female   35      1      0  53.1000        S\n",
       "4         0       3    male   35      0      0   8.0500        S"
      ]
     },
     "execution_count": 339,
     "metadata": {},
     "output_type": "execute_result"
    }
   ],
   "source": [
    "titanic = titanic.drop('Cabin', axis=1) \n",
    "titanic = titanic.drop('PassengerId', axis=1)\n",
    "titanic = titanic.drop('Ticket', axis=1 )\n",
    "titanic = titanic.drop('Name', axis=1)\n",
    "titanic.head()"
   ]
  },
  {
   "cell_type": "markdown",
   "id": "c8c14aa0",
   "metadata": {},
   "source": [
    "### Mapping Feature to values"
   ]
  },
  {
   "cell_type": "code",
   "execution_count": 340,
   "id": "2b0d8a96",
   "metadata": {},
   "outputs": [],
   "source": [
    "sex_mapping = {'male':0, 'female':1}\n",
    "titanic['Sex'] = titanic['Sex'].map(sex_mapping)"
   ]
  },
  {
   "cell_type": "code",
   "execution_count": 341,
   "id": "9bc042cd",
   "metadata": {},
   "outputs": [],
   "source": [
    "embark_mapping = {'S':0, 'C': 1, 'Q': 2}\n",
    "titanic['Embarked'] = titanic['Embarked'].map(embark_mapping)"
   ]
  },
  {
   "cell_type": "code",
   "execution_count": 342,
   "id": "f3eed1df",
   "metadata": {},
   "outputs": [],
   "source": [
    "#Fill the missing fare value in test set based on mean fare for that Pclass\n",
    "for x in range(len(titanic['Fare'])):\n",
    "  if pd.isnull(titanic['Fare'][x]):\n",
    "    pclass = titanic['Pclass'][x] #Pclass = 3\n",
    "    titanic['Fare'][x] = round(titanic[titanic['Pclass']==pclass]['Fare'].mean(),4)\n",
    "\n",
    "#Map Fare values into groups of numerical values\n",
    "titanic['FareBand'] = pd.qcut(titanic['Fare'], 4, labels=[1,2,3,4])\n",
    "titanic['FareBand'] = pd.qcut(titanic['Fare'], 4, labels=[1,2,3,4])\n",
    "\n",
    "#Drap Fare Values\n",
    "titanic = titanic.drop(['Fare'], axis = 1)"
   ]
  },
  {
   "cell_type": "code",
   "execution_count": 344,
   "id": "b9f34d46",
   "metadata": {},
   "outputs": [
    {
     "data": {
      "text/plain": [
       "6     177\n",
       "4     169\n",
       "5     152\n",
       "3     139\n",
       "2     127\n",
       "1      99\n",
       "9       8\n",
       "0       7\n",
       "8       4\n",
       "11      4\n",
       "7       3\n",
       "10      2\n",
       "Name: Age, dtype: int64"
      ]
     },
     "execution_count": 344,
     "metadata": {},
     "output_type": "execute_result"
    }
   ],
   "source": [
    "for dataset in titanic:\n",
    "    titanic[\"Age\"] = titanic[\"Age\"].astype(int)\n",
    "    titanic.loc[(titanic['Age'] > 11) & (titanic['Age'] <= 18), 'Age'] = 1\n",
    "    titanic.loc[(titanic['Age'] > 18) & (titanic['Age'] <= 22), 'Age'] = 2\n",
    "    titanic.loc[(titanic['Age'] > 22) & (titanic['Age'] <= 27), 'Age'] = 3\n",
    "    titanic.loc[(titanic['Age'] > 27) & (titanic['Age'] <= 33), 'Age'] = 4\n",
    "    titanic.loc[(titanic['Age'] > 33) & (titanic['Age'] <= 40), 'Age'] = 5\n",
    "    titanic.loc[(titanic['Age'] > 40) & (titanic['Age'] <= 66), 'Age'] = 6\n",
    "    titanic.loc[ titanic['Age'] > 66, 'Age'] = 6\n",
    "\n",
    "titanic['Age'].value_counts()"
   ]
  },
  {
   "cell_type": "code",
   "execution_count": 345,
   "id": "5b5e9f49",
   "metadata": {
    "scrolled": true
   },
   "outputs": [
    {
     "data": {
      "text/html": [
       "<div>\n",
       "<style scoped>\n",
       "    .dataframe tbody tr th:only-of-type {\n",
       "        vertical-align: middle;\n",
       "    }\n",
       "\n",
       "    .dataframe tbody tr th {\n",
       "        vertical-align: top;\n",
       "    }\n",
       "\n",
       "    .dataframe thead th {\n",
       "        text-align: right;\n",
       "    }\n",
       "</style>\n",
       "<table border=\"1\" class=\"dataframe\">\n",
       "  <thead>\n",
       "    <tr style=\"text-align: right;\">\n",
       "      <th></th>\n",
       "      <th>Survived</th>\n",
       "      <th>Pclass</th>\n",
       "      <th>Sex</th>\n",
       "      <th>Age</th>\n",
       "      <th>SibSp</th>\n",
       "      <th>Parch</th>\n",
       "      <th>Embarked</th>\n",
       "      <th>FareBand</th>\n",
       "    </tr>\n",
       "  </thead>\n",
       "  <tbody>\n",
       "    <tr>\n",
       "      <th>0</th>\n",
       "      <td>0</td>\n",
       "      <td>3</td>\n",
       "      <td>0</td>\n",
       "      <td>2</td>\n",
       "      <td>1</td>\n",
       "      <td>0</td>\n",
       "      <td>0</td>\n",
       "      <td>1</td>\n",
       "    </tr>\n",
       "    <tr>\n",
       "      <th>1</th>\n",
       "      <td>1</td>\n",
       "      <td>1</td>\n",
       "      <td>1</td>\n",
       "      <td>5</td>\n",
       "      <td>1</td>\n",
       "      <td>0</td>\n",
       "      <td>1</td>\n",
       "      <td>4</td>\n",
       "    </tr>\n",
       "    <tr>\n",
       "      <th>2</th>\n",
       "      <td>1</td>\n",
       "      <td>3</td>\n",
       "      <td>1</td>\n",
       "      <td>3</td>\n",
       "      <td>0</td>\n",
       "      <td>0</td>\n",
       "      <td>0</td>\n",
       "      <td>2</td>\n",
       "    </tr>\n",
       "    <tr>\n",
       "      <th>3</th>\n",
       "      <td>1</td>\n",
       "      <td>1</td>\n",
       "      <td>1</td>\n",
       "      <td>5</td>\n",
       "      <td>1</td>\n",
       "      <td>0</td>\n",
       "      <td>0</td>\n",
       "      <td>4</td>\n",
       "    </tr>\n",
       "    <tr>\n",
       "      <th>4</th>\n",
       "      <td>0</td>\n",
       "      <td>3</td>\n",
       "      <td>0</td>\n",
       "      <td>5</td>\n",
       "      <td>0</td>\n",
       "      <td>0</td>\n",
       "      <td>0</td>\n",
       "      <td>2</td>\n",
       "    </tr>\n",
       "  </tbody>\n",
       "</table>\n",
       "</div>"
      ],
      "text/plain": [
       "   Survived  Pclass  Sex  Age  SibSp  Parch  Embarked FareBand\n",
       "0         0       3    0    2      1      0         0        1\n",
       "1         1       1    1    5      1      0         1        4\n",
       "2         1       3    1    3      0      0         0        2\n",
       "3         1       1    1    5      1      0         0        4\n",
       "4         0       3    0    5      0      0         0        2"
      ]
     },
     "execution_count": 345,
     "metadata": {},
     "output_type": "execute_result"
    }
   ],
   "source": [
    "titanic.head()"
   ]
  },
  {
   "cell_type": "markdown",
   "id": "30a4276f",
   "metadata": {},
   "source": [
    "# Building Machine Learning Models"
   ]
  },
  {
   "cell_type": "markdown",
   "id": "8437223a",
   "metadata": {},
   "source": [
    "## Splitting data "
   ]
  },
  {
   "cell_type": "code",
   "execution_count": 346,
   "id": "67d96a98",
   "metadata": {},
   "outputs": [],
   "source": [
    "# Dropping irrelevant data columns from features \n",
    "features = titanic.drop(['Survived'], axis=1)\n",
    "##setting variable target to be the intended target of ML model\n",
    "target = titanic['Survived']\n",
    "\n",
    "X_train, X_test, Y_train, Y_test = train_test_split(features, target, test_size=0.3, random_state=0) "
   ]
  },
  {
   "cell_type": "code",
   "execution_count": 347,
   "id": "8736d3c5",
   "metadata": {
    "scrolled": false
   },
   "outputs": [
    {
     "name": "stdout",
     "output_type": "stream",
     "text": [
      "<class 'pandas.core.frame.DataFrame'>\n",
      "Int64Index: 623 entries, 857 to 684\n",
      "Data columns (total 7 columns):\n",
      " #   Column    Non-Null Count  Dtype   \n",
      "---  ------    --------------  -----   \n",
      " 0   Pclass    623 non-null    int64   \n",
      " 1   Sex       623 non-null    int64   \n",
      " 2   Age       623 non-null    int32   \n",
      " 3   SibSp     623 non-null    int64   \n",
      " 4   Parch     623 non-null    int64   \n",
      " 5   Embarked  623 non-null    int64   \n",
      " 6   FareBand  623 non-null    category\n",
      "dtypes: category(1), int32(1), int64(5)\n",
      "memory usage: 32.4 KB\n"
     ]
    }
   ],
   "source": [
    "X_train.info()"
   ]
  },
  {
   "cell_type": "code",
   "execution_count": 348,
   "id": "7a705f7f",
   "metadata": {
    "scrolled": true
   },
   "outputs": [
    {
     "name": "stdout",
     "output_type": "stream",
     "text": [
      "<class 'pandas.core.frame.DataFrame'>\n",
      "Int64Index: 268 entries, 495 to 64\n",
      "Data columns (total 7 columns):\n",
      " #   Column    Non-Null Count  Dtype   \n",
      "---  ------    --------------  -----   \n",
      " 0   Pclass    268 non-null    int64   \n",
      " 1   Sex       268 non-null    int64   \n",
      " 2   Age       268 non-null    int32   \n",
      " 3   SibSp     268 non-null    int64   \n",
      " 4   Parch     268 non-null    int64   \n",
      " 5   Embarked  268 non-null    int64   \n",
      " 6   FareBand  268 non-null    category\n",
      "dtypes: category(1), int32(1), int64(5)\n",
      "memory usage: 14.1 KB\n"
     ]
    }
   ],
   "source": [
    "X_test.info()"
   ]
  },
  {
   "cell_type": "markdown",
   "id": "05f7d953",
   "metadata": {},
   "source": [
    "### Logistic Regession Classification Model"
   ]
  },
  {
   "cell_type": "code",
   "execution_count": 349,
   "id": "0b74a98a",
   "metadata": {},
   "outputs": [
    {
     "name": "stdout",
     "output_type": "stream",
     "text": [
      "Accuracy of Logistic Regression is 80.97\n"
     ]
    }
   ],
   "source": [
    "#set a variable for the Logistic Regression classification model \n",
    "logmodel = LogisticRegression()\n",
    "#Fit the train set into the model \n",
    "logmodel.fit(X_train, Y_train)\n",
    "#Make a prediction(predicted y value)\n",
    "y_pred_logmodel = logmodel.predict(X_test)\n",
    "#Find the accuracy of this model\n",
    "accuracy_logmodel = round(metrics.accuracy_score(Y_test, y_pred_logmodel)*100, 2)\n",
    "print(\"Accuracy of Logistic Regression is\", accuracy_logmodel)"
   ]
  },
  {
   "cell_type": "markdown",
   "id": "e5b3828b",
   "metadata": {},
   "source": [
    "### KNN classification model "
   ]
  },
  {
   "cell_type": "code",
   "execution_count": 350,
   "id": "19c26700",
   "metadata": {
    "scrolled": true
   },
   "outputs": [
    {
     "name": "stdout",
     "output_type": "stream",
     "text": [
      "Accuracy of KNN is 76.12\n"
     ]
    },
    {
     "name": "stderr",
     "output_type": "stream",
     "text": [
      "C:\\Users\\megan\\anaconda3\\lib\\site-packages\\sklearn\\neighbors\\_classification.py:228: FutureWarning: Unlike other reduction functions (e.g. `skew`, `kurtosis`), the default behavior of `mode` typically preserves the axis it acts along. In SciPy 1.11.0, this behavior will change: the default value of `keepdims` will become False, the `axis` over which the statistic is taken will be eliminated, and the value None will no longer be accepted. Set `keepdims` to True or False to avoid this warning.\n",
      "  mode, _ = stats.mode(_y[neigh_ind, k], axis=1)\n"
     ]
    }
   ],
   "source": [
    "#set a variable for the KNN classification model \n",
    "knn = KNeighborsClassifier()\n",
    "#Fit the train set into the model \n",
    "knn.fit(X_train, Y_train)\n",
    "#Make a prediction(predicted y value)\n",
    "y_pred_knn = knn.predict(X_test)\n",
    "#Find the accuracy of this model\n",
    "accuracy_knn = round(metrics.accuracy_score(Y_test, y_pred_knn)*100, 2)\n",
    "print(\"Accuracy of KNN is\", accuracy_knn)"
   ]
  },
  {
   "cell_type": "markdown",
   "id": "1bbc7283",
   "metadata": {},
   "source": [
    "### Gaussian Naive Baye classification model"
   ]
  },
  {
   "cell_type": "code",
   "execution_count": 351,
   "id": "369ce81c",
   "metadata": {},
   "outputs": [
    {
     "name": "stdout",
     "output_type": "stream",
     "text": [
      "Accuracy of Gaussian Naive Bayes is 77.61\n"
     ]
    }
   ],
   "source": [
    "#set a variable for the Gaussian Naive Baye classification model \n",
    "gaussian = GaussianNB()\n",
    "#Fit the train set into the model \n",
    "gaussian.fit(X_train, Y_train)\n",
    "#Make a prediction(predicted y value)\n",
    "y_pred_gaussian = gaussian.predict(X_test)\n",
    "#Find the accuracy of this model\n",
    "accuracy_gaussian = round(metrics.accuracy_score(Y_test, y_pred_gaussian)*100, 2)\n",
    "print(\"Accuracy of Gaussian Naive Bayes is\", accuracy_gaussian)"
   ]
  },
  {
   "cell_type": "markdown",
   "id": "306b4bcf",
   "metadata": {},
   "source": [
    "### Decision Tree classification model "
   ]
  },
  {
   "cell_type": "code",
   "execution_count": 352,
   "id": "c807cfa5",
   "metadata": {},
   "outputs": [
    {
     "name": "stdout",
     "output_type": "stream",
     "text": [
      "Accuracy of Decision Tree is 75.75\n"
     ]
    }
   ],
   "source": [
    "#set a variable for the Decision Tree classification model \n",
    "decision_tree = DecisionTreeClassifier(random_state=0)\n",
    "#Fit the train set into the model \n",
    "decision_tree.fit(X_train, Y_train)\n",
    "#Make a prediction(predicted y value)\n",
    "y_pred_decision_tree = decision_tree.predict(X_test)\n",
    "#Find the accuracy of this model\n",
    "accuracy_decision_tree = round(metrics.accuracy_score(Y_test, y_pred_decision_tree)*100, 2)\n",
    "print(\"Accuracy of Decision Tree is\", accuracy_decision_tree)"
   ]
  },
  {
   "cell_type": "markdown",
   "id": "62db0047",
   "metadata": {},
   "source": [
    "### Support Vector Machine classification model "
   ]
  },
  {
   "cell_type": "code",
   "execution_count": 353,
   "id": "d5886271",
   "metadata": {},
   "outputs": [
    {
     "name": "stdout",
     "output_type": "stream",
     "text": [
      "Accuracy of Support Vector Machine is 80.6\n"
     ]
    }
   ],
   "source": [
    "#set a variable for the Support Vector Machine classification model \n",
    "svc = SVC(random_state=0 )\n",
    "#Fit the train set into the model \n",
    "svc.fit(X_train, Y_train)\n",
    "#Make a prediction(predicted y value)\n",
    "y_pred_svc = svc.predict(X_test)\n",
    "#Find the accuracy of this model\n",
    "accuracy_svc = round(metrics.accuracy_score(Y_test, y_pred_svc)*100, 2)\n",
    "print(\"Accuracy of Support Vector Machine is\", accuracy_svc)"
   ]
  },
  {
   "cell_type": "code",
   "execution_count": 354,
   "id": "7ebe3f05",
   "metadata": {
    "scrolled": false
   },
   "outputs": [
    {
     "data": {
      "text/html": [
       "<div>\n",
       "<style scoped>\n",
       "    .dataframe tbody tr th:only-of-type {\n",
       "        vertical-align: middle;\n",
       "    }\n",
       "\n",
       "    .dataframe tbody tr th {\n",
       "        vertical-align: top;\n",
       "    }\n",
       "\n",
       "    .dataframe thead th {\n",
       "        text-align: right;\n",
       "    }\n",
       "</style>\n",
       "<table border=\"1\" class=\"dataframe\">\n",
       "  <thead>\n",
       "    <tr style=\"text-align: right;\">\n",
       "      <th></th>\n",
       "      <th>Model</th>\n",
       "    </tr>\n",
       "    <tr>\n",
       "      <th>Score</th>\n",
       "      <th></th>\n",
       "    </tr>\n",
       "  </thead>\n",
       "  <tbody>\n",
       "    <tr>\n",
       "      <th>80.97</th>\n",
       "      <td>Logistic Regression</td>\n",
       "    </tr>\n",
       "    <tr>\n",
       "      <th>80.60</th>\n",
       "      <td>Support Vector Machines</td>\n",
       "    </tr>\n",
       "    <tr>\n",
       "      <th>77.61</th>\n",
       "      <td>Gaussian Naive Bayes</td>\n",
       "    </tr>\n",
       "    <tr>\n",
       "      <th>76.12</th>\n",
       "      <td>KNN</td>\n",
       "    </tr>\n",
       "    <tr>\n",
       "      <th>75.75</th>\n",
       "      <td>Decision Tree</td>\n",
       "    </tr>\n",
       "  </tbody>\n",
       "</table>\n",
       "</div>"
      ],
      "text/plain": [
       "                         Model\n",
       "Score                         \n",
       "80.97      Logistic Regression\n",
       "80.60  Support Vector Machines\n",
       "77.61     Gaussian Naive Bayes\n",
       "76.12                      KNN\n",
       "75.75            Decision Tree"
      ]
     },
     "execution_count": 354,
     "metadata": {},
     "output_type": "execute_result"
    }
   ],
   "source": [
    "results = pd.DataFrame({\n",
    "    'Model': ['Logistic Regression',\n",
    "              'KNN','Gaussian Naive Bayes',\n",
    "              'Decision Tree','Support Vector Machines', \n",
    "              ],\n",
    "    'Score': [accuracy_logmodel, accuracy_knn, accuracy_gaussian, \n",
    "              accuracy_decision_tree, accuracy_svc,]})\n",
    "result_df = results.sort_values(by='Score', ascending=False)\n",
    "result_df = result_df.set_index('Score')\n",
    "result_df.head(9)"
   ]
  },
  {
   "cell_type": "markdown",
   "id": "a06df8a8",
   "metadata": {},
   "source": [
    "<b>Logistic Regression has the highest accuracy score compared to the other models."
   ]
  },
  {
   "cell_type": "markdown",
   "id": "fef6ea84",
   "metadata": {},
   "source": [
    "### K-Fold Cross Validation of Logistic Regession Model"
   ]
  },
  {
   "cell_type": "code",
   "execution_count": 355,
   "id": "ba240ace",
   "metadata": {
    "scrolled": true
   },
   "outputs": [
    {
     "name": "stdout",
     "output_type": "stream",
     "text": [
      "Scores: [0.76190476 0.82539683 0.6984127  0.80645161 0.75806452 0.79032258\n",
      " 0.79032258 0.82258065 0.80645161 0.87096774]\n",
      "Mean: 0.7930875576036867\n",
      "Standard Deviation: 0.04417448290404119\n"
     ]
    }
   ],
   "source": [
    "from sklearn.model_selection import cross_val_score\n",
    "lr = LogisticRegression()#n_estimators=100\n",
    "scores = cross_val_score(lr, X_train, Y_train, cv=10, scoring = \"accuracy\")\n",
    "print(\"Scores:\", scores)\n",
    "print(\"Mean:\", scores.mean())\n",
    "print(\"Standard Deviation:\", scores.std())"
   ]
  },
  {
   "cell_type": "markdown",
   "id": "0815a590",
   "metadata": {},
   "source": [
    "<b>Model has an average accuracy of 79.3% with a standard deviation of 4.9%. Thus, the accuracy of our model can differ by +- 4.9%"
   ]
  },
  {
   "cell_type": "markdown",
   "id": "83273250",
   "metadata": {},
   "source": [
    "### Check for a random person"
   ]
  },
  {
   "cell_type": "code",
   "execution_count": 356,
   "id": "0aa68c3c",
   "metadata": {},
   "outputs": [
    {
     "name": "stdout",
     "output_type": "stream",
     "text": [
      "Dead\n"
     ]
    },
    {
     "name": "stderr",
     "output_type": "stream",
     "text": [
      "C:\\Users\\megan\\anaconda3\\lib\\site-packages\\sklearn\\base.py:450: UserWarning: X does not have valid feature names, but LogisticRegression was fitted with feature names\n",
      "  warnings.warn(\n"
     ]
    }
   ],
   "source": [
    "input_data = (3,0,2,1,0,0,1) #input data excludes survival column\n",
    "input_data_as_numpy_array = np.asarray(input_data)\n",
    "input_data_reshaped = input_data_as_numpy_array.reshape(1,-1)\n",
    "prediction = logmodel.predict(input_data_reshaped)\n",
    "#print(prediction)\n",
    "if prediction[0]==0:\n",
    "    print(\"Dead\")\n",
    "if prediction[0]==1:\n",
    "    print(\"Alive\")"
   ]
  },
  {
   "cell_type": "markdown",
   "id": "33613d73",
   "metadata": {},
   "source": [
    "<b>On running the code, we get the exact same result, as the given in the 1st row in the table.\n",
    "\n",
    "<b>Thus we can conclude that our model is performing well. THe model can be trained using a bigger dataset to get better results. However, it will be more tedious and time-consuming."
   ]
  }
 ],
 "metadata": {
  "kernelspec": {
   "display_name": "Python 3 (ipykernel)",
   "language": "python",
   "name": "python3"
  },
  "language_info": {
   "codemirror_mode": {
    "name": "ipython",
    "version": 3
   },
   "file_extension": ".py",
   "mimetype": "text/x-python",
   "name": "python",
   "nbconvert_exporter": "python",
   "pygments_lexer": "ipython3",
   "version": "3.9.13"
  }
 },
 "nbformat": 4,
 "nbformat_minor": 5
}
